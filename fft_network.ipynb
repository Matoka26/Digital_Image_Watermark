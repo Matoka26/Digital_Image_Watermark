{
 "cells": [
  {
   "cell_type": "markdown",
   "metadata": {
    "_cell_guid": "d7fcc849-a3b9-42e3-bf84-6dc183cc4ddd",
    "_uuid": "6feb9264-0fd8-4176-b5bf-551e1fad48f9",
    "collapsed": false,
    "jupyter": {
     "outputs_hidden": false
    },
    "trusted": true
   },
   "source": [
    "# Imports"
   ]
  },
  {
   "cell_type": "code",
   "execution_count": null,
   "metadata": {},
   "outputs": [],
   "source": [
    "from typing import List, Tuple\n",
    "import numpy as np\n",
    "import pandas as pd\n",
    "import os\n",
    "\n",
    "import matplotlib.pyplot as plt\n",
    "import seaborn as sns\n",
    "from PIL import Image\n",
    "\n",
    "import torch\n",
    "import torch.nn as nn\n",
    "import torch.nn.functional as F\n",
    "from torchaudio.transforms import MelScale\n",
    "from torchvision import datasets, transforms\n",
    "from torch.utils.data import DataLoader, Dataset\n",
    "from torch.utils.data import random_split\n",
    "from tqdm import tqdm\n",
    "\n",
    "from sklearn.metrics import confusion_matrix, accuracy_score"
   ]
  },
  {
   "cell_type": "markdown",
   "metadata": {
    "_cell_guid": "515fd27c-a8e9-4a98-ac31-1dbf8facc8f9",
    "_uuid": "a54340b1-40c6-49c2-84d5-7713c1f3a62c",
    "collapsed": false,
    "jupyter": {
     "outputs_hidden": false
    },
    "trusted": true
   },
   "source": [
    "# Data Paths"
   ]
  },
  {
   "cell_type": "code",
   "execution_count": 63,
   "metadata": {
    "_cell_guid": "9a964f15-b2fe-4241-bc7c-af0647ac94b9",
    "_uuid": "88843ece-60b0-4de9-95df-bf62d62717ad",
    "collapsed": false,
    "execution": {
     "iopub.execute_input": "2025-06-11T08:43:36.744680Z",
     "iopub.status.busy": "2025-06-11T08:43:36.743973Z",
     "iopub.status.idle": "2025-06-11T08:43:36.762461Z",
     "shell.execute_reply": "2025-06-11T08:43:36.761751Z",
     "shell.execute_reply.started": "2025-06-11T08:43:36.744658Z"
    },
    "jupyter": {
     "outputs_hidden": false
    },
    "trusted": true
   },
   "outputs": [],
   "source": [
    "data_path = '/kaggle/input/marked-data-256/data/marked_data_256'\n",
    "labels_path = '/kaggle/input/marked-data-256/data/labels.csv'"
   ]
  },
  {
   "cell_type": "markdown",
   "metadata": {
    "_cell_guid": "25f789c2-9e39-46ae-b175-3ae62eecf4a0",
    "_uuid": "2dda8904-d852-47be-b3b9-35e8f36d264c",
    "collapsed": false,
    "jupyter": {
     "outputs_hidden": false
    },
    "trusted": true
   },
   "source": [
    "# Define Dataloader"
   ]
  },
  {
   "cell_type": "code",
   "execution_count": 64,
   "metadata": {
    "_cell_guid": "057f2ced-b865-4ddc-8ace-91924430b3e8",
    "_uuid": "6c1b5d73-2c39-435f-96f6-82d697522820",
    "collapsed": false,
    "execution": {
     "iopub.execute_input": "2025-06-11T08:43:36.763511Z",
     "iopub.status.busy": "2025-06-11T08:43:36.763222Z",
     "iopub.status.idle": "2025-06-11T08:43:36.776680Z",
     "shell.execute_reply": "2025-06-11T08:43:36.776181Z",
     "shell.execute_reply.started": "2025-06-11T08:43:36.763495Z"
    },
    "jupyter": {
     "outputs_hidden": false
    },
    "trusted": true
   },
   "outputs": [],
   "source": [
    "class WatermarksDataset(Dataset):\n",
    "    def __init__(self, csv_file, img_dir, transform=None):\n",
    "        self.df = pd.read_csv(csv_file)\n",
    "        self.img_dir = img_dir\n",
    "        self.transform = transform\n",
    "\n",
    "        # Map string labels to numeric for calssification\n",
    "        self.label2idx = {label: idx for idx, label in enumerate(self.df['label'].unique())}\n",
    "        self.df['label_idx'] = self.df['label'].map(self.label2idx)\n",
    "\n",
    "    def __len__(self):\n",
    "        return len(self.df)\n",
    "\n",
    "    def __getitem__(self, idx):\n",
    "        img_path = os.path.join(self.img_dir, self.df.iloc[idx]['filename'] + \".png\")\n",
    "        # Read the image as Grayscale\n",
    "        image = Image.open(img_path).convert(\"L\")\n",
    "        label = self.df.iloc[idx]['label_idx']\n",
    "\n",
    "        if self.transform:\n",
    "            image = self.transform(image)\n",
    "\n",
    "        return image, label"
   ]
  },
  {
   "cell_type": "markdown",
   "metadata": {
    "_cell_guid": "4b0f09c4-f393-4fa5-ad5f-0270724948d3",
    "_uuid": "87e19f01-2d0a-444b-b648-a999569bd930",
    "collapsed": false,
    "jupyter": {
     "outputs_hidden": false
    },
    "trusted": true
   },
   "source": [
    "# Declare Dataloader"
   ]
  },
  {
   "cell_type": "code",
   "execution_count": 65,
   "metadata": {
    "_cell_guid": "9bb1a9e3-ca2f-4041-897a-a7b111b40290",
    "_uuid": "e0c11531-11ba-4350-b71e-6079075b4f33",
    "collapsed": false,
    "execution": {
     "iopub.execute_input": "2025-06-11T08:43:36.778145Z",
     "iopub.status.busy": "2025-06-11T08:43:36.777946Z",
     "iopub.status.idle": "2025-06-11T08:43:36.899046Z",
     "shell.execute_reply": "2025-06-11T08:43:36.898349Z",
     "shell.execute_reply.started": "2025-06-11T08:43:36.778130Z"
    },
    "jupyter": {
     "outputs_hidden": false
    },
    "trusted": true
   },
   "outputs": [
    {
     "name": "stdout",
     "output_type": "stream",
     "text": [
      "torch.Size([16, 1, 256, 256])\n"
     ]
    }
   ],
   "source": [
    "class FFTFlatten:\n",
    "    def __call__(self, x):\n",
    "        if not isinstance(x, torch.Tensor):\n",
    "            x = transforms.ToTensor()(x)\n",
    "\n",
    "        x_fft = torch.fft.fft2(x)\n",
    "        x_fft = torch.abs(x_fft) + 1e-8\n",
    "        x_fft = torch.log(x_fft)\n",
    "        x_fft_flat = x_fft.view(-1)\n",
    "\n",
    "        return x_fft_flat.float()\n",
    "\n",
    "# Final transform pipeline\n",
    "transform = transforms.Compose([\n",
    "    transforms.ToTensor(),          # Converts PIL to (C, H, W) tensor\n",
    "    # FFTFlatten(),                   # Apply FFT and flatten to 1D\n",
    "])\n",
    "\n",
    "dataset = WatermarksDataset(\n",
    "    csv_file=labels_path,\n",
    "    img_dir=data_path,\n",
    "    transform=transform\n",
    ")\n",
    "\n",
    "dataloader = DataLoader(dataset, batch_size=16, shuffle=True)\n",
    "\n",
    "# Example: iterate\n",
    "for images, labels in dataloader:\n",
    "    print(images.shape)\n",
    "\n",
    "    break"
   ]
  },
  {
   "cell_type": "markdown",
   "metadata": {
    "_cell_guid": "f49da0af-b2e5-4ac7-83c0-3c799756d68e",
    "_uuid": "7109d13b-6329-41c3-9e64-9288bb29ed6c",
    "collapsed": false,
    "jupyter": {
     "outputs_hidden": false
    },
    "trusted": true
   },
   "source": [
    "# Split data"
   ]
  },
  {
   "cell_type": "code",
   "execution_count": 66,
   "metadata": {
    "_cell_guid": "c662786d-f09c-4e88-a45c-212e5934d177",
    "_uuid": "faee370d-4e64-4ade-8ab4-637d9c988a04",
    "collapsed": false,
    "execution": {
     "iopub.execute_input": "2025-06-11T08:43:36.899857Z",
     "iopub.status.busy": "2025-06-11T08:43:36.899664Z",
     "iopub.status.idle": "2025-06-11T08:43:36.905680Z",
     "shell.execute_reply": "2025-06-11T08:43:36.904973Z",
     "shell.execute_reply.started": "2025-06-11T08:43:36.899841Z"
    },
    "jupyter": {
     "outputs_hidden": false
    },
    "trusted": true
   },
   "outputs": [],
   "source": [
    "dataset_size = len(dataset)\n",
    "train_size = int(0.7 * dataset_size)\n",
    "val_size = int(0.15 * dataset_size)\n",
    "test_size = dataset_size - train_size - val_size  # Ensures full coverage\n",
    "\n",
    "train_dataset, val_dataset, test_dataset = random_split(\n",
    "    dataset, [train_size, val_size, test_size],\n",
    "    generator=torch.Generator().manual_seed(42)  # for reproducibility\n",
    ")"
   ]
  },
  {
   "cell_type": "markdown",
   "metadata": {
    "_cell_guid": "79fa3b45-b248-478e-8456-a2f97464865f",
    "_uuid": "58e0a424-ccba-4c57-b0a6-f798f7ad7c5c",
    "collapsed": false,
    "jupyter": {
     "outputs_hidden": false
    },
    "trusted": true
   },
   "source": [
    "# Define Network"
   ]
  },
  {
   "cell_type": "code",
   "execution_count": null,
   "metadata": {
    "_cell_guid": "8b64d265-a273-464b-8d39-ca649b3d127e",
    "_uuid": "29da1df8-30a7-4784-b4b1-733d7c31e7f2",
    "execution": {
     "execution_failed": "2025-06-11T10:03:41.297Z",
     "iopub.status.busy": "2025-06-11T08:43:36.906541Z"
    },
    "trusted": true
   },
   "outputs": [],
   "source": [
    "# class FourierInputMapping(nn.Module):\n",
    "#     def __init__(self, input_dim, mapping_size=256, scale=10):\n",
    "#         super().__init__()\n",
    "#         self.B = nn.Parameter(torch.randn((input_dim, mapping_size)) * scale, requires_grad=False)\n",
    "        \n",
    "#     def forward(self, x):\n",
    "#         # x: [batch_size, input_dim]\n",
    "#         B = self.B.to(x.device)\n",
    "#         x_proj = 2 * torch.pi * x @ B  # [batch_size, mapping_size]\n",
    "#         return torch.cat([torch.sin(x_proj), torch.cos(x_proj)], dim=-1)\n",
    "\n",
    "# class FourierFeaturesNetwork(nn.Module):\n",
    "#     def __init__(self, input_dim, num_classes, activation_fn, mapping_size=256, scale=10, hidden_dim=128):\n",
    "#         super().__init__()\n",
    "#         self.ffm = FourierInputMapping(input_dim, mapping_size=mapping_size, scale=scale)\n",
    "\n",
    "#         self.net = nn.Sequential(\n",
    "#             nn.Linear(2 * mapping_size, hidden_dim),\n",
    "#             activation_fn,\n",
    "#             nn.Linear(hidden_dim, hidden_dim),\n",
    "#             activation_fn,\n",
    "#             nn.Linear(hidden_dim, num_classes)\n",
    "#         )\n",
    "\n",
    "#     def forward(self, x):\n",
    "#         x = self.ffm(x)\n",
    "#         return self.net(x)"
   ]
  },
  {
   "cell_type": "code",
   "execution_count": null,
   "metadata": {
    "_cell_guid": "82d4ffd4-48e6-4273-8767-b8efb1f66ad9",
    "_uuid": "db14ad35-175f-4fe0-b621-6335e3a808e8",
    "collapsed": false,
    "execution": {
     "execution_failed": "2025-06-11T10:03:41.297Z",
     "iopub.execute_input": "2025-06-11T08:43:36.947929Z",
     "iopub.status.idle": "2025-06-11T08:43:36.955445Z"
    },
    "jupyter": {
     "outputs_hidden": false
    },
    "trusted": true
   },
   "outputs": [],
   "source": [
    "import torch\n",
    "import torch.nn as nn\n",
    "\n",
    "class DualBranchFFTNetwork(nn.Module):\n",
    "    def __init__(self, input_dim, num_classes, activation_fn, hidden_dim):\n",
    "        super().__init__()\n",
    "        self.input_dim = input_dim\n",
    "        flat_dim = input_dim * input_dim  # 2D image flattened\n",
    "\n",
    "        # Magnitude processing branch\n",
    "        self.mag_branch = nn.Sequential(\n",
    "            nn.Linear(flat_dim, hidden_dim),\n",
    "            activation_fn,\n",
    "            nn.Linear(hidden_dim, hidden_dim // 2),\n",
    "            activation_fn\n",
    "        )\n",
    "\n",
    "        # Phase/time processing branch (using raw input for now)\n",
    "        self.time_branch = nn.Sequential(\n",
    "            nn.Linear(flat_dim, hidden_dim),\n",
    "            activation_fn,\n",
    "            nn.Linear(hidden_dim, hidden_dim // 2),\n",
    "            activation_fn\n",
    "        )\n",
    "\n",
    "        # Combined classifier (input = mag + time branch output)\n",
    "        combined_feature_dim = (hidden_dim // 2) * 2\n",
    "        self.classifier = nn.Sequential(\n",
    "            nn.Linear(combined_feature_dim, hidden_dim),\n",
    "            activation_fn,\n",
    "            nn.Linear(hidden_dim, num_classes)\n",
    "        )\n",
    "\n",
    "    def forward(self, x):\n",
    "        x = x.squeeze(1)  # [B, H, W]\n",
    "\n",
    "        # Normalize\n",
    "        x = (x - torch.mean(x, dim=(1,2), keepdim=True)) / (torch.std(x, dim=(1,2), keepdim=True) + 1e-8)\n",
    "\n",
    "        # FFT\n",
    "        x_fft = torch.fft.fft2(x)\n",
    "\n",
    "        # Magnitude path\n",
    "        mag = torch.abs(x_fft) + 1e-8\n",
    "        mag_log = torch.log(mag)\n",
    "        mag_flat = mag_log.view(x.size(0), -1)\n",
    "        mag_features = self.mag_branch(mag_flat)\n",
    "\n",
    "        # Time-domain path\n",
    "        time_flat = x.view(x.size(0), -1)\n",
    "        time_features = self.time_branch(time_flat)\n",
    "\n",
    "        # Concatenate and classify\n",
    "        combined = torch.cat((mag_features, time_features), dim=1)\n",
    "        return self.classifier(combined)\n"
   ]
  },
  {
   "cell_type": "code",
   "execution_count": 69,
   "metadata": {
    "execution": {
     "iopub.execute_input": "2025-06-11T08:43:36.957291Z",
     "iopub.status.busy": "2025-06-11T08:43:36.956739Z",
     "iopub.status.idle": "2025-06-11T08:43:36.972876Z",
     "shell.execute_reply": "2025-06-11T08:43:36.972339Z",
     "shell.execute_reply.started": "2025-06-11T08:43:36.957266Z"
    },
    "trusted": true
   },
   "outputs": [],
   "source": [
    "# Implementation from https://medium.com/data-scientists-diary/implementing-focal-loss-in-pytorch-for-class-imbalance-24d8aa3b59d9\n",
    "class FocalLoss(nn.Module):\n",
    "    def __init__(self, alpha=1, gamma=2, reduction='mean'):\n",
    "        super(FocalLoss, self).__init__()\n",
    "        self.alpha = alpha  # controls class imbalance\n",
    "        self.gamma = gamma  # focuses on hard examples\n",
    "        self.reduction = reduction\n",
    "\n",
    "    def forward(self, inputs, targets):\n",
    "        # Calculate Binary Cross-Entropy Loss for each sample\n",
    "        BCE_loss = nn.functional.binary_cross_entropy_with_logits(inputs, targets, reduction='none')\n",
    "\n",
    "        # Compute pt (model confidence on true class)\n",
    "        pt = torch.exp(-BCE_loss)\n",
    "\n",
    "        # Apply the focal adjustment\n",
    "        focal_loss = self.alpha * (1 - pt) ** self.gamma * BCE_loss\n",
    "\n",
    "        # Apply reduction (mean, sum, or no reduction)\n",
    "        if self.reduction == 'mean':\n",
    "            return focal_loss.mean()\n",
    "        elif self.reduction == 'sum':\n",
    "            return focal_loss.sum()\n",
    "        else:\n",
    "            return focal_loss"
   ]
  },
  {
   "cell_type": "code",
   "execution_count": 70,
   "metadata": {
    "execution": {
     "iopub.execute_input": "2025-06-11T08:43:36.973666Z",
     "iopub.status.busy": "2025-06-11T08:43:36.973430Z",
     "iopub.status.idle": "2025-06-11T08:43:37.045224Z",
     "shell.execute_reply": "2025-06-11T08:43:37.044510Z",
     "shell.execute_reply.started": "2025-06-11T08:43:36.973650Z"
    },
    "trusted": true
   },
   "outputs": [],
   "source": [
    "import torch\n",
    "import os\n",
    "\n",
    "torch.cuda.empty_cache()\n",
    "os.environ[\"PYTORCH_CUDA_ALLOC_CONF\"] = \"expandable_segments:True\""
   ]
  },
  {
   "cell_type": "markdown",
   "metadata": {
    "_cell_guid": "426a1f47-4430-4a11-92f5-03f398f4e3c8",
    "_uuid": "7b39a3aa-3e90-41a0-85d0-54ca7e753628",
    "collapsed": false,
    "jupyter": {
     "outputs_hidden": false
    },
    "trusted": true
   },
   "source": [
    "# Hyperparameters"
   ]
  },
  {
   "cell_type": "code",
   "execution_count": 71,
   "metadata": {
    "_cell_guid": "e9464bf2-f244-4c32-b7fc-4051fc48af0f",
    "_uuid": "96c1abdc-f99c-4f17-8c87-6a945557648b",
    "collapsed": false,
    "execution": {
     "iopub.execute_input": "2025-06-11T08:43:37.046164Z",
     "iopub.status.busy": "2025-06-11T08:43:37.045957Z",
     "iopub.status.idle": "2025-06-11T08:43:37.051236Z",
     "shell.execute_reply": "2025-06-11T08:43:37.050625Z",
     "shell.execute_reply.started": "2025-06-11T08:43:37.046150Z"
    },
    "jupyter": {
     "outputs_hidden": false
    },
    "trusted": true
   },
   "outputs": [],
   "source": [
    "device = torch.device('cuda') if torch.cuda.is_available() else torch.device('cpu')\n",
    "hyperparams = {\n",
    "    'optimizer': 'adam',\n",
    "    'lr': 0.001,\n",
    "    'momentum': 0.0,\n",
    "    'num_epochs': 80,\n",
    "    'hidden_size': 64,\n",
    "    'num_classes': 4,\n",
    "    'scale': 10,\n",
    "    'mapping_size': 256,\n",
    "    'activation_fn': nn.ReLU(),\n",
    "    'loss_fn': 'focal_loss',\n",
    "    'class_weights': torch.tensor([1.0, 1.05, 1.0, 1.0]).to(device),\n",
    "    'alpha': torch.tensor([1, 2, 1, 2]).to(device),\n",
    "    'gamma': 2\n",
    "}"
   ]
  },
  {
   "cell_type": "code",
   "execution_count": 72,
   "metadata": {
    "_cell_guid": "a715aca2-a152-41a2-b8b9-525760114c1c",
    "_uuid": "46178337-b727-4e67-9448-0ed80ce7bb96",
    "collapsed": false,
    "execution": {
     "iopub.execute_input": "2025-06-11T08:43:37.053282Z",
     "iopub.status.busy": "2025-06-11T08:43:37.053118Z",
     "iopub.status.idle": "2025-06-11T08:43:37.141203Z",
     "shell.execute_reply": "2025-06-11T08:43:37.140703Z",
     "shell.execute_reply.started": "2025-06-11T08:43:37.053270Z"
    },
    "jupyter": {
     "outputs_hidden": false
    },
    "trusted": true
   },
   "outputs": [],
   "source": [
    "# model_fnn = FourierFeaturesNetwork(input_dim=2, \n",
    "#                                num_classes=4, \n",
    "#                                scale=hyperparams['scale'],\n",
    "#                                mapping_size=hyperparams['mapping_size'],\n",
    "#                                activation_fn=hyperparams['activation_fn'],\n",
    "#                                hidden_dim=hyperparams['hidden_size'])\n",
    "torch.cuda.empty_cache()\n",
    "\n",
    "model = DualBranchFFTNetwork(input_dim=256,\n",
    "                   num_classes=hyperparams['num_classes'],\n",
    "                   activation_fn=hyperparams['activation_fn'],\n",
    "                   hidden_dim=hyperparams['hidden_size']).to(device)\n",
    "\n",
    "if hyperparams['loss_fn'] == 'cross_entropy':\n",
    "    loss_criterion = nn.CrossEntropyLoss(weight=hyperparams['class_weights'])\n",
    "if hyperparams['loss_fn'] == 'focal_loss':\n",
    "    loss_criterion = FocalLoss(alpha=hyperparams['alpha'], gamma=hyperparams['gamma']) \n",
    "    \n",
    "optimizer = torch.optim.SGD(\n",
    "        params=model.parameters(),\n",
    "        lr=hyperparams['lr'],\n",
    "        momentum=hyperparams['momentum']\n",
    "    )"
   ]
  },
  {
   "cell_type": "markdown",
   "metadata": {
    "_cell_guid": "39ae075e-f377-4b80-98ed-4f41d9b5ef91",
    "_uuid": "1936fea3-d864-4367-b41a-f06bf97eedc4",
    "collapsed": false,
    "jupyter": {
     "outputs_hidden": false
    },
    "trusted": true
   },
   "source": [
    "# Define train/eval"
   ]
  },
  {
   "cell_type": "code",
   "execution_count": 73,
   "metadata": {
    "_cell_guid": "096cba6a-018e-4a3c-900f-a31aab31e65b",
    "_uuid": "51cc5351-27c2-4c44-8a75-4138ba68e039",
    "execution": {
     "iopub.execute_input": "2025-06-11T08:43:37.142084Z",
     "iopub.status.busy": "2025-06-11T08:43:37.141838Z",
     "iopub.status.idle": "2025-06-11T08:43:37.151085Z",
     "shell.execute_reply": "2025-06-11T08:43:37.150421Z",
     "shell.execute_reply.started": "2025-06-11T08:43:37.142069Z"
    },
    "trusted": true
   },
   "outputs": [],
   "source": [
    "def train_epoch(model, train_dataloader, loss_crt, optimizer, device):\n",
    "    model.train()\n",
    "    epoch_loss = 0.0\n",
    "    num_batches = len(train_dataloader)\n",
    "    predictions = []\n",
    "    labels = []\n",
    "\n",
    "    for idx, batch in tqdm(enumerate(train_dataloader)):\n",
    "        batch_data, batch_labels = batch\n",
    "        current_batch_size = batch_data.size(0)\n",
    "\n",
    "        # Move data and labels to device\n",
    "        batch_data = batch_data.to(device)\n",
    "        batch_labels = batch_labels.to(device)\n",
    "\n",
    "        # Forward pass\n",
    "        output = model(batch_data)  # Input is already [batch, 1, 256, 256]\n",
    "\n",
    "        # Prediction for metrics\n",
    "        batch_predictions = torch.argmax(output, dim=1)\n",
    "        predictions += batch_predictions.cpu().tolist()\n",
    "        labels += batch_labels.cpu().tolist()\n",
    "\n",
    "        # Create one-hot labels ON DEVICE\n",
    "        batch_labels_onehot = torch.nn.functional.one_hot(\n",
    "            batch_labels.long(), \n",
    "            num_classes=hyperparams['num_classes']\n",
    "        ).float().to(device)\n",
    "\n",
    "        # Compute loss\n",
    "        loss = loss_crt(output, batch_labels_onehot)\n",
    "\n",
    "        # Backpropagation\n",
    "        optimizer.zero_grad()\n",
    "        loss.backward()\n",
    "        optimizer.step()\n",
    "\n",
    "        epoch_loss += loss.item()\n",
    "\n",
    "    epoch_loss /= num_batches\n",
    "    return epoch_loss, predictions, labels\n",
    "\n",
    "def eval_epoch(model, val_dataloader, loss_crt, device):\n",
    "    model.eval()\n",
    "    epoch_loss = 0.0\n",
    "    num_batches = len(val_dataloader)\n",
    "    predictions = []\n",
    "    labels = []\n",
    "\n",
    "    with torch.no_grad():\n",
    "        for idx, batch in tqdm(enumerate(val_dataloader)):\n",
    "            batch_data, batch_labels = batch\n",
    "            current_batch_size = batch_data.size(0)\n",
    "\n",
    "            # Move data and labels to device\n",
    "            batch_data = batch_data.to(device)\n",
    "            batch_labels = batch_labels.to(device)\n",
    "\n",
    "            # Forward pass\n",
    "            output = model(batch_data)  # Input shape: [batch, 1, 256, 256]\n",
    "\n",
    "            # Prediction for metrics\n",
    "            batch_predictions = torch.argmax(output, dim=1)\n",
    "            predictions += batch_predictions.cpu().tolist()\n",
    "            labels += batch_labels.cpu().tolist()\n",
    "\n",
    "            # Create one-hot labels ON DEVICE\n",
    "            batch_labels_onehot = torch.nn.functional.one_hot(\n",
    "                batch_labels.long(),\n",
    "                num_classes=hyperparams['num_classes']\n",
    "            ).float().to(device)\n",
    "\n",
    "            # Compute loss\n",
    "            loss = loss_crt(output, batch_labels_onehot)\n",
    "\n",
    "            epoch_loss += loss.item()\n",
    "\n",
    "    epoch_loss /= num_batches\n",
    "    return epoch_loss, predictions, labels\n"
   ]
  },
  {
   "cell_type": "markdown",
   "metadata": {
    "_cell_guid": "08956e17-2436-464f-abff-f30997f6a893",
    "_uuid": "8ed8d2f4-84ae-44be-8b04-ca61354ea1bf",
    "collapsed": false,
    "jupyter": {
     "outputs_hidden": false
    },
    "trusted": true
   },
   "source": [
    "# Train"
   ]
  },
  {
   "cell_type": "code",
   "execution_count": 74,
   "metadata": {
    "execution": {
     "iopub.execute_input": "2025-06-11T08:43:37.152209Z",
     "iopub.status.busy": "2025-06-11T08:43:37.151928Z",
     "iopub.status.idle": "2025-06-11T08:43:37.167727Z",
     "shell.execute_reply": "2025-06-11T08:43:37.166981Z",
     "shell.execute_reply.started": "2025-06-11T08:43:37.152185Z"
    },
    "trusted": true
   },
   "outputs": [],
   "source": [
    "def compute_accuracy(predictions: List[int], labels:List[int]) -> float:\n",
    "    \"\"\"\n",
    "    Compute accuracy given the predictions of a binary classifier and the\n",
    "    ground truth label.\n",
    "    predictions: list of model predictions (0 or 1)\n",
    "    labels: list of ground truth labels (0 or 1)\n",
    "    \"\"\"\n",
    "    num_correct = len([(p,l) for (p,l) in zip(predictions,labels) if p==l])\n",
    "    epoch_accuracy = num_correct/len(labels)\n",
    "\n",
    "    return epoch_accuracy\n"
   ]
  },
  {
   "cell_type": "code",
   "execution_count": 75,
   "metadata": {
    "_cell_guid": "edb5c1c7-aa85-4168-8f58-92f2b3d1000e",
    "_uuid": "7c5778d5-b169-4490-b233-39f6fcb7f10a",
    "collapsed": true,
    "execution": {
     "iopub.execute_input": "2025-06-11T08:43:37.168827Z",
     "iopub.status.busy": "2025-06-11T08:43:37.168559Z",
     "iopub.status.idle": "2025-06-11T09:23:42.834891Z",
     "shell.execute_reply": "2025-06-11T09:23:42.833996Z",
     "shell.execute_reply.started": "2025-06-11T08:43:37.168804Z"
    },
    "jupyter": {
     "outputs_hidden": true,
     "source_hidden": true
    },
    "trusted": true
   },
   "outputs": [
    {
     "name": "stderr",
     "output_type": "stream",
     "text": [
      "280it [00:29,  9.61it/s]\n",
      "60it [00:06,  9.42it/s]\n"
     ]
    },
    {
     "name": "stdout",
     "output_type": "stream",
     "text": [
      "epoch 0, train loss=0.203091, train acc=0.536607, val loss=0.186920, val acc=0.685000\n",
      "New best model saved with val acc = 0.6850\n"
     ]
    },
    {
     "name": "stderr",
     "output_type": "stream",
     "text": [
      "280it [00:23, 11.80it/s]\n",
      "60it [00:05, 10.64it/s]"
     ]
    },
    {
     "name": "stdout",
     "output_type": "stream",
     "text": [
      "epoch 1, train loss=0.173367, train acc=0.679357, val loss=0.158330, val acc=0.673667\n"
     ]
    },
    {
     "name": "stderr",
     "output_type": "stream",
     "text": [
      "\n",
      "280it [00:24, 11.59it/s]\n",
      "60it [00:05, 10.96it/s]\n"
     ]
    },
    {
     "name": "stdout",
     "output_type": "stream",
     "text": [
      "epoch 2, train loss=0.148672, train acc=0.703000, val loss=0.140127, val acc=0.716333\n",
      "New best model saved with val acc = 0.7163\n"
     ]
    },
    {
     "name": "stderr",
     "output_type": "stream",
     "text": [
      "280it [00:24, 11.40it/s]\n",
      "60it [00:05, 11.51it/s]\n"
     ]
    },
    {
     "name": "stdout",
     "output_type": "stream",
     "text": [
      "epoch 3, train loss=0.134674, train acc=0.720036, val loss=0.130708, val acc=0.725000\n",
      "New best model saved with val acc = 0.7250\n"
     ]
    },
    {
     "name": "stderr",
     "output_type": "stream",
     "text": [
      "280it [00:24, 11.23it/s]\n",
      "60it [00:05, 10.85it/s]"
     ]
    },
    {
     "name": "stdout",
     "output_type": "stream",
     "text": [
      "epoch 4, train loss=0.126428, train acc=0.730321, val loss=0.123560, val acc=0.733333\n",
      "New best model saved with val acc = 0.7333\n"
     ]
    },
    {
     "name": "stderr",
     "output_type": "stream",
     "text": [
      "\n",
      "280it [00:25, 11.16it/s]\n",
      "60it [00:05, 11.29it/s]\n"
     ]
    },
    {
     "name": "stdout",
     "output_type": "stream",
     "text": [
      "epoch 5, train loss=0.120522, train acc=0.740500, val loss=0.118368, val acc=0.733500\n",
      "New best model saved with val acc = 0.7335\n"
     ]
    },
    {
     "name": "stderr",
     "output_type": "stream",
     "text": [
      "280it [00:24, 11.47it/s]\n",
      "60it [00:05, 11.43it/s]"
     ]
    },
    {
     "name": "stdout",
     "output_type": "stream",
     "text": [
      "epoch 6, train loss=0.116098, train acc=0.741643, val loss=0.114623, val acc=0.733833\n",
      "New best model saved with val acc = 0.7338\n"
     ]
    },
    {
     "name": "stderr",
     "output_type": "stream",
     "text": [
      "\n",
      "280it [00:24, 11.57it/s]\n",
      "60it [00:05, 11.51it/s]"
     ]
    },
    {
     "name": "stdout",
     "output_type": "stream",
     "text": [
      "epoch 7, train loss=0.112647, train acc=0.744821, val loss=0.111672, val acc=0.744500\n",
      "New best model saved with val acc = 0.7445\n"
     ]
    },
    {
     "name": "stderr",
     "output_type": "stream",
     "text": [
      "\n",
      "280it [00:23, 11.76it/s]\n",
      "60it [00:05, 11.52it/s]"
     ]
    },
    {
     "name": "stdout",
     "output_type": "stream",
     "text": [
      "epoch 8, train loss=0.109717, train acc=0.752143, val loss=0.109100, val acc=0.742833\n"
     ]
    },
    {
     "name": "stderr",
     "output_type": "stream",
     "text": [
      "\n",
      "280it [00:24, 11.64it/s]\n",
      "60it [00:05, 11.60it/s]"
     ]
    },
    {
     "name": "stdout",
     "output_type": "stream",
     "text": [
      "epoch 9, train loss=0.107284, train acc=0.752929, val loss=0.106965, val acc=0.742167\n"
     ]
    },
    {
     "name": "stderr",
     "output_type": "stream",
     "text": [
      "\n",
      "280it [00:24, 11.64it/s]\n",
      "60it [00:05, 11.45it/s]"
     ]
    },
    {
     "name": "stdout",
     "output_type": "stream",
     "text": [
      "epoch 10, train loss=0.105467, train acc=0.753714, val loss=0.106015, val acc=0.743833\n"
     ]
    },
    {
     "name": "stderr",
     "output_type": "stream",
     "text": [
      "\n",
      "280it [00:24, 11.49it/s]\n",
      "60it [00:05, 11.67it/s]"
     ]
    },
    {
     "name": "stdout",
     "output_type": "stream",
     "text": [
      "epoch 11, train loss=0.103801, train acc=0.751214, val loss=0.103892, val acc=0.746000\n",
      "New best model saved with val acc = 0.7460\n"
     ]
    },
    {
     "name": "stderr",
     "output_type": "stream",
     "text": [
      "\n",
      "280it [00:23, 11.77it/s]\n",
      "60it [00:05, 11.04it/s]"
     ]
    },
    {
     "name": "stdout",
     "output_type": "stream",
     "text": [
      "epoch 12, train loss=0.102357, train acc=0.759571, val loss=0.102607, val acc=0.744333\n"
     ]
    },
    {
     "name": "stderr",
     "output_type": "stream",
     "text": [
      "\n",
      "280it [00:24, 11.65it/s]\n",
      "60it [00:05, 10.68it/s]"
     ]
    },
    {
     "name": "stdout",
     "output_type": "stream",
     "text": [
      "epoch 13, train loss=0.101177, train acc=0.756179, val loss=0.101690, val acc=0.743167\n"
     ]
    },
    {
     "name": "stderr",
     "output_type": "stream",
     "text": [
      "\n",
      "280it [00:23, 11.69it/s]\n",
      "60it [00:05, 10.84it/s]"
     ]
    },
    {
     "name": "stdout",
     "output_type": "stream",
     "text": [
      "epoch 14, train loss=0.100075, train acc=0.756643, val loss=0.101357, val acc=0.747000\n",
      "New best model saved with val acc = 0.7470\n"
     ]
    },
    {
     "name": "stderr",
     "output_type": "stream",
     "text": [
      "\n",
      "280it [00:23, 11.77it/s]\n",
      "60it [00:05, 11.56it/s]"
     ]
    },
    {
     "name": "stdout",
     "output_type": "stream",
     "text": [
      "epoch 15, train loss=0.099180, train acc=0.760107, val loss=0.100237, val acc=0.743833\n"
     ]
    },
    {
     "name": "stderr",
     "output_type": "stream",
     "text": [
      "\n",
      "280it [00:23, 11.71it/s]\n",
      "60it [00:05, 11.62it/s]"
     ]
    },
    {
     "name": "stdout",
     "output_type": "stream",
     "text": [
      "epoch 16, train loss=0.098222, train acc=0.764357, val loss=0.099111, val acc=0.746000\n"
     ]
    },
    {
     "name": "stderr",
     "output_type": "stream",
     "text": [
      "\n",
      "280it [00:23, 11.69it/s]\n",
      "60it [00:05, 11.47it/s]"
     ]
    },
    {
     "name": "stdout",
     "output_type": "stream",
     "text": [
      "epoch 17, train loss=0.097580, train acc=0.760714, val loss=0.099020, val acc=0.745167\n"
     ]
    },
    {
     "name": "stderr",
     "output_type": "stream",
     "text": [
      "\n",
      "280it [00:23, 11.72it/s]\n",
      "60it [00:05, 11.52it/s]"
     ]
    },
    {
     "name": "stdout",
     "output_type": "stream",
     "text": [
      "epoch 18, train loss=0.096963, train acc=0.764821, val loss=0.097831, val acc=0.738667\n"
     ]
    },
    {
     "name": "stderr",
     "output_type": "stream",
     "text": [
      "\n",
      "280it [00:24, 11.59it/s]\n",
      "60it [00:05, 11.59it/s]"
     ]
    },
    {
     "name": "stdout",
     "output_type": "stream",
     "text": [
      "epoch 19, train loss=0.096370, train acc=0.764964, val loss=0.097375, val acc=0.740667\n"
     ]
    },
    {
     "name": "stderr",
     "output_type": "stream",
     "text": [
      "\n",
      "280it [00:24, 11.61it/s]\n",
      "60it [00:05, 11.12it/s]"
     ]
    },
    {
     "name": "stdout",
     "output_type": "stream",
     "text": [
      "epoch 20, train loss=0.095898, train acc=0.763929, val loss=0.097041, val acc=0.740833\n"
     ]
    },
    {
     "name": "stderr",
     "output_type": "stream",
     "text": [
      "\n",
      "280it [00:24, 11.36it/s]\n",
      "60it [00:05, 11.20it/s]"
     ]
    },
    {
     "name": "stdout",
     "output_type": "stream",
     "text": [
      "epoch 21, train loss=0.095440, train acc=0.765214, val loss=0.096544, val acc=0.739000\n"
     ]
    },
    {
     "name": "stderr",
     "output_type": "stream",
     "text": [
      "\n",
      "280it [00:24, 11.39it/s]\n",
      "60it [00:05, 10.88it/s]"
     ]
    },
    {
     "name": "stdout",
     "output_type": "stream",
     "text": [
      "epoch 22, train loss=0.095042, train acc=0.766964, val loss=0.097108, val acc=0.747833\n",
      "New best model saved with val acc = 0.7478\n"
     ]
    },
    {
     "name": "stderr",
     "output_type": "stream",
     "text": [
      "\n",
      "280it [00:25, 11.18it/s]\n",
      "60it [00:05, 11.09it/s]"
     ]
    },
    {
     "name": "stdout",
     "output_type": "stream",
     "text": [
      "epoch 23, train loss=0.094652, train acc=0.766357, val loss=0.096250, val acc=0.748667\n",
      "New best model saved with val acc = 0.7487\n"
     ]
    },
    {
     "name": "stderr",
     "output_type": "stream",
     "text": [
      "\n",
      "280it [00:24, 11.42it/s]\n",
      "60it [00:05, 11.03it/s]"
     ]
    },
    {
     "name": "stdout",
     "output_type": "stream",
     "text": [
      "epoch 24, train loss=0.094223, train acc=0.769036, val loss=0.095733, val acc=0.746833\n"
     ]
    },
    {
     "name": "stderr",
     "output_type": "stream",
     "text": [
      "\n",
      "280it [00:25, 10.96it/s]\n",
      "60it [00:05, 10.90it/s]"
     ]
    },
    {
     "name": "stdout",
     "output_type": "stream",
     "text": [
      "epoch 25, train loss=0.094035, train acc=0.768393, val loss=0.095642, val acc=0.747500\n"
     ]
    },
    {
     "name": "stderr",
     "output_type": "stream",
     "text": [
      "\n",
      "280it [00:24, 11.21it/s]\n",
      "60it [00:05, 10.68it/s]"
     ]
    },
    {
     "name": "stdout",
     "output_type": "stream",
     "text": [
      "epoch 26, train loss=0.093603, train acc=0.769714, val loss=0.095108, val acc=0.739667\n"
     ]
    },
    {
     "name": "stderr",
     "output_type": "stream",
     "text": [
      "\n",
      "280it [00:25, 11.14it/s]\n",
      "60it [00:05, 10.16it/s]"
     ]
    },
    {
     "name": "stdout",
     "output_type": "stream",
     "text": [
      "epoch 27, train loss=0.093379, train acc=0.768786, val loss=0.095020, val acc=0.747167\n"
     ]
    },
    {
     "name": "stderr",
     "output_type": "stream",
     "text": [
      "\n",
      "280it [00:25, 10.87it/s]\n",
      "60it [00:05, 10.20it/s]\n"
     ]
    },
    {
     "name": "stdout",
     "output_type": "stream",
     "text": [
      "epoch 28, train loss=0.093138, train acc=0.769464, val loss=0.094778, val acc=0.749000\n",
      "New best model saved with val acc = 0.7490\n"
     ]
    },
    {
     "name": "stderr",
     "output_type": "stream",
     "text": [
      "280it [00:25, 11.00it/s]\n",
      "60it [00:05, 10.12it/s]"
     ]
    },
    {
     "name": "stdout",
     "output_type": "stream",
     "text": [
      "epoch 29, train loss=0.092821, train acc=0.774214, val loss=0.094576, val acc=0.740000\n"
     ]
    },
    {
     "name": "stderr",
     "output_type": "stream",
     "text": [
      "\n",
      "280it [00:24, 11.60it/s]\n",
      "60it [00:05, 10.58it/s]"
     ]
    },
    {
     "name": "stdout",
     "output_type": "stream",
     "text": [
      "epoch 30, train loss=0.092706, train acc=0.772429, val loss=0.094384, val acc=0.744500\n"
     ]
    },
    {
     "name": "stderr",
     "output_type": "stream",
     "text": [
      "\n",
      "280it [00:24, 11.41it/s]\n",
      "60it [00:05, 11.07it/s]"
     ]
    },
    {
     "name": "stdout",
     "output_type": "stream",
     "text": [
      "epoch 31, train loss=0.092468, train acc=0.773464, val loss=0.094263, val acc=0.745000\n"
     ]
    },
    {
     "name": "stderr",
     "output_type": "stream",
     "text": [
      "\n",
      "280it [00:24, 11.26it/s]\n",
      "60it [00:05, 11.13it/s]"
     ]
    },
    {
     "name": "stdout",
     "output_type": "stream",
     "text": [
      "epoch 32, train loss=0.092221, train acc=0.772071, val loss=0.094093, val acc=0.741000\n"
     ]
    },
    {
     "name": "stderr",
     "output_type": "stream",
     "text": [
      "\n",
      "280it [00:24, 11.38it/s]\n",
      "60it [00:05, 11.50it/s]"
     ]
    },
    {
     "name": "stdout",
     "output_type": "stream",
     "text": [
      "epoch 33, train loss=0.091983, train acc=0.776250, val loss=0.094377, val acc=0.751667\n",
      "New best model saved with val acc = 0.7517\n"
     ]
    },
    {
     "name": "stderr",
     "output_type": "stream",
     "text": [
      "\n",
      "280it [00:24, 11.26it/s]\n",
      "60it [00:05, 10.83it/s]"
     ]
    },
    {
     "name": "stdout",
     "output_type": "stream",
     "text": [
      "epoch 34, train loss=0.091873, train acc=0.773857, val loss=0.094052, val acc=0.749500\n"
     ]
    },
    {
     "name": "stderr",
     "output_type": "stream",
     "text": [
      "\n",
      "280it [00:24, 11.25it/s]\n",
      "60it [00:05, 11.46it/s]"
     ]
    },
    {
     "name": "stdout",
     "output_type": "stream",
     "text": [
      "epoch 35, train loss=0.091683, train acc=0.777107, val loss=0.093745, val acc=0.743500\n"
     ]
    },
    {
     "name": "stderr",
     "output_type": "stream",
     "text": [
      "\n",
      "280it [00:24, 11.33it/s]\n",
      "60it [00:05, 11.16it/s]"
     ]
    },
    {
     "name": "stdout",
     "output_type": "stream",
     "text": [
      "epoch 36, train loss=0.091510, train acc=0.777036, val loss=0.094898, val acc=0.749167\n"
     ]
    },
    {
     "name": "stderr",
     "output_type": "stream",
     "text": [
      "\n",
      "280it [00:24, 11.28it/s]\n",
      "60it [00:05, 11.50it/s]"
     ]
    },
    {
     "name": "stdout",
     "output_type": "stream",
     "text": [
      "epoch 37, train loss=0.091352, train acc=0.776714, val loss=0.094078, val acc=0.752000\n",
      "New best model saved with val acc = 0.7520\n"
     ]
    },
    {
     "name": "stderr",
     "output_type": "stream",
     "text": [
      "\n",
      "280it [00:24, 11.35it/s]\n",
      "60it [00:05, 10.92it/s]"
     ]
    },
    {
     "name": "stdout",
     "output_type": "stream",
     "text": [
      "epoch 38, train loss=0.091308, train acc=0.776714, val loss=0.093459, val acc=0.742833\n"
     ]
    },
    {
     "name": "stderr",
     "output_type": "stream",
     "text": [
      "\n",
      "280it [00:24, 11.30it/s]\n",
      "60it [00:05, 11.15it/s]"
     ]
    },
    {
     "name": "stdout",
     "output_type": "stream",
     "text": [
      "epoch 39, train loss=0.091152, train acc=0.778893, val loss=0.093408, val acc=0.742167\n"
     ]
    },
    {
     "name": "stderr",
     "output_type": "stream",
     "text": [
      "\n",
      "280it [00:24, 11.34it/s]\n",
      "60it [00:05, 10.93it/s]"
     ]
    },
    {
     "name": "stdout",
     "output_type": "stream",
     "text": [
      "epoch 40, train loss=0.090967, train acc=0.779393, val loss=0.094228, val acc=0.746167\n"
     ]
    },
    {
     "name": "stderr",
     "output_type": "stream",
     "text": [
      "\n",
      "280it [00:24, 11.45it/s]\n",
      "60it [00:05, 11.32it/s]"
     ]
    },
    {
     "name": "stdout",
     "output_type": "stream",
     "text": [
      "epoch 41, train loss=0.090878, train acc=0.776964, val loss=0.093559, val acc=0.748333\n"
     ]
    },
    {
     "name": "stderr",
     "output_type": "stream",
     "text": [
      "\n",
      "280it [00:24, 11.56it/s]\n",
      "60it [00:05, 11.48it/s]"
     ]
    },
    {
     "name": "stdout",
     "output_type": "stream",
     "text": [
      "epoch 42, train loss=0.090709, train acc=0.781071, val loss=0.093156, val acc=0.740833\n"
     ]
    },
    {
     "name": "stderr",
     "output_type": "stream",
     "text": [
      "\n",
      "280it [00:24, 11.50it/s]\n",
      "60it [00:05, 11.41it/s]"
     ]
    },
    {
     "name": "stdout",
     "output_type": "stream",
     "text": [
      "epoch 43, train loss=0.090694, train acc=0.779214, val loss=0.093055, val acc=0.739333\n"
     ]
    },
    {
     "name": "stderr",
     "output_type": "stream",
     "text": [
      "\n",
      "280it [00:23, 11.70it/s]\n",
      "60it [00:05, 10.43it/s]"
     ]
    },
    {
     "name": "stdout",
     "output_type": "stream",
     "text": [
      "epoch 44, train loss=0.090528, train acc=0.780821, val loss=0.093034, val acc=0.741000\n"
     ]
    },
    {
     "name": "stderr",
     "output_type": "stream",
     "text": [
      "\n",
      "280it [00:23, 11.67it/s]\n",
      "60it [00:05, 10.57it/s]"
     ]
    },
    {
     "name": "stdout",
     "output_type": "stream",
     "text": [
      "epoch 45, train loss=0.090421, train acc=0.781143, val loss=0.092926, val acc=0.736500\n"
     ]
    },
    {
     "name": "stderr",
     "output_type": "stream",
     "text": [
      "\n",
      "280it [00:24, 11.56it/s]\n",
      "60it [00:05, 11.42it/s]"
     ]
    },
    {
     "name": "stdout",
     "output_type": "stream",
     "text": [
      "epoch 46, train loss=0.090323, train acc=0.780750, val loss=0.093028, val acc=0.742333\n"
     ]
    },
    {
     "name": "stderr",
     "output_type": "stream",
     "text": [
      "\n",
      "280it [00:24, 11.51it/s]\n",
      "60it [00:05, 11.52it/s]"
     ]
    },
    {
     "name": "stdout",
     "output_type": "stream",
     "text": [
      "epoch 47, train loss=0.090182, train acc=0.781214, val loss=0.093142, val acc=0.752833\n",
      "New best model saved with val acc = 0.7528\n"
     ]
    },
    {
     "name": "stderr",
     "output_type": "stream",
     "text": [
      "\n",
      "280it [00:24, 11.45it/s]\n",
      "60it [00:05, 11.35it/s]"
     ]
    },
    {
     "name": "stdout",
     "output_type": "stream",
     "text": [
      "epoch 48, train loss=0.090032, train acc=0.785750, val loss=0.092876, val acc=0.741667\n"
     ]
    },
    {
     "name": "stderr",
     "output_type": "stream",
     "text": [
      "\n",
      "280it [00:24, 11.47it/s]\n",
      "60it [00:05, 11.53it/s]"
     ]
    },
    {
     "name": "stdout",
     "output_type": "stream",
     "text": [
      "epoch 49, train loss=0.090046, train acc=0.782607, val loss=0.093046, val acc=0.746833\n"
     ]
    },
    {
     "name": "stderr",
     "output_type": "stream",
     "text": [
      "\n",
      "280it [00:24, 11.37it/s]\n",
      "60it [00:05, 10.95it/s]"
     ]
    },
    {
     "name": "stdout",
     "output_type": "stream",
     "text": [
      "epoch 50, train loss=0.089808, train acc=0.787857, val loss=0.093318, val acc=0.753167\n",
      "New best model saved with val acc = 0.7532\n"
     ]
    },
    {
     "name": "stderr",
     "output_type": "stream",
     "text": [
      "\n",
      "280it [00:24, 11.35it/s]\n",
      "60it [00:05, 11.44it/s]"
     ]
    },
    {
     "name": "stdout",
     "output_type": "stream",
     "text": [
      "epoch 51, train loss=0.089742, train acc=0.785179, val loss=0.093603, val acc=0.754000\n",
      "New best model saved with val acc = 0.7540\n"
     ]
    },
    {
     "name": "stderr",
     "output_type": "stream",
     "text": [
      "\n",
      "280it [00:24, 11.62it/s]\n",
      "60it [00:05, 11.39it/s]"
     ]
    },
    {
     "name": "stdout",
     "output_type": "stream",
     "text": [
      "epoch 52, train loss=0.089720, train acc=0.785500, val loss=0.092868, val acc=0.746167\n"
     ]
    },
    {
     "name": "stderr",
     "output_type": "stream",
     "text": [
      "\n",
      "280it [00:24, 11.44it/s]\n",
      "60it [00:05, 11.44it/s]"
     ]
    },
    {
     "name": "stdout",
     "output_type": "stream",
     "text": [
      "epoch 53, train loss=0.089612, train acc=0.785036, val loss=0.092750, val acc=0.741833\n"
     ]
    },
    {
     "name": "stderr",
     "output_type": "stream",
     "text": [
      "\n",
      "280it [00:24, 11.60it/s]\n",
      "60it [00:05, 11.34it/s]"
     ]
    },
    {
     "name": "stdout",
     "output_type": "stream",
     "text": [
      "epoch 54, train loss=0.089533, train acc=0.785607, val loss=0.093272, val acc=0.754000\n"
     ]
    },
    {
     "name": "stderr",
     "output_type": "stream",
     "text": [
      "\n",
      "280it [00:24, 11.53it/s]\n",
      "60it [00:05, 11.65it/s]"
     ]
    },
    {
     "name": "stdout",
     "output_type": "stream",
     "text": [
      "epoch 55, train loss=0.089386, train acc=0.787607, val loss=0.092894, val acc=0.751833\n"
     ]
    },
    {
     "name": "stderr",
     "output_type": "stream",
     "text": [
      "\n",
      "280it [00:23, 11.81it/s]\n",
      "60it [00:05, 11.00it/s]"
     ]
    },
    {
     "name": "stdout",
     "output_type": "stream",
     "text": [
      "epoch 56, train loss=0.089276, train acc=0.786964, val loss=0.092553, val acc=0.734000\n"
     ]
    },
    {
     "name": "stderr",
     "output_type": "stream",
     "text": [
      "\n",
      "280it [00:24, 11.47it/s]\n",
      "60it [00:05, 10.63it/s]"
     ]
    },
    {
     "name": "stdout",
     "output_type": "stream",
     "text": [
      "epoch 57, train loss=0.089151, train acc=0.791107, val loss=0.092585, val acc=0.741667\n"
     ]
    },
    {
     "name": "stderr",
     "output_type": "stream",
     "text": [
      "\n",
      "280it [00:24, 11.67it/s]\n",
      "60it [00:05, 10.79it/s]"
     ]
    },
    {
     "name": "stdout",
     "output_type": "stream",
     "text": [
      "epoch 58, train loss=0.089102, train acc=0.789036, val loss=0.092483, val acc=0.733167\n"
     ]
    },
    {
     "name": "stderr",
     "output_type": "stream",
     "text": [
      "\n",
      "280it [00:23, 11.76it/s]\n",
      "60it [00:05, 11.65it/s]"
     ]
    },
    {
     "name": "stdout",
     "output_type": "stream",
     "text": [
      "epoch 59, train loss=0.089175, train acc=0.788500, val loss=0.092463, val acc=0.737000\n"
     ]
    },
    {
     "name": "stderr",
     "output_type": "stream",
     "text": [
      "\n",
      "280it [00:24, 11.55it/s]\n",
      "60it [00:05, 11.36it/s]"
     ]
    },
    {
     "name": "stdout",
     "output_type": "stream",
     "text": [
      "epoch 60, train loss=0.089013, train acc=0.790464, val loss=0.092654, val acc=0.745333\n"
     ]
    },
    {
     "name": "stderr",
     "output_type": "stream",
     "text": [
      "\n",
      "280it [00:24, 11.46it/s]\n",
      "60it [00:05, 11.63it/s]"
     ]
    },
    {
     "name": "stdout",
     "output_type": "stream",
     "text": [
      "epoch 61, train loss=0.088942, train acc=0.790786, val loss=0.093945, val acc=0.747000\n"
     ]
    },
    {
     "name": "stderr",
     "output_type": "stream",
     "text": [
      "\n",
      "280it [00:24, 11.50it/s]\n",
      "60it [00:05, 11.16it/s]"
     ]
    },
    {
     "name": "stdout",
     "output_type": "stream",
     "text": [
      "epoch 62, train loss=0.088781, train acc=0.788500, val loss=0.092697, val acc=0.750333\n"
     ]
    },
    {
     "name": "stderr",
     "output_type": "stream",
     "text": [
      "\n",
      "280it [00:24, 11.29it/s]\n",
      "60it [00:05, 10.87it/s]"
     ]
    },
    {
     "name": "stdout",
     "output_type": "stream",
     "text": [
      "epoch 63, train loss=0.088695, train acc=0.793250, val loss=0.093338, val acc=0.754000\n"
     ]
    },
    {
     "name": "stderr",
     "output_type": "stream",
     "text": [
      "\n",
      "280it [00:24, 11.21it/s]\n",
      "60it [00:05, 11.32it/s]"
     ]
    },
    {
     "name": "stdout",
     "output_type": "stream",
     "text": [
      "epoch 64, train loss=0.088840, train acc=0.786857, val loss=0.092512, val acc=0.729000\n"
     ]
    },
    {
     "name": "stderr",
     "output_type": "stream",
     "text": [
      "\n",
      "280it [00:24, 11.30it/s]\n",
      "60it [00:05, 11.27it/s]"
     ]
    },
    {
     "name": "stdout",
     "output_type": "stream",
     "text": [
      "epoch 65, train loss=0.088583, train acc=0.791179, val loss=0.093788, val acc=0.748000\n"
     ]
    },
    {
     "name": "stderr",
     "output_type": "stream",
     "text": [
      "\n",
      "280it [00:24, 11.53it/s]\n",
      "60it [00:05, 11.21it/s]"
     ]
    },
    {
     "name": "stdout",
     "output_type": "stream",
     "text": [
      "epoch 66, train loss=0.088412, train acc=0.791786, val loss=0.092418, val acc=0.733667\n"
     ]
    },
    {
     "name": "stderr",
     "output_type": "stream",
     "text": [
      "\n",
      "280it [00:24, 11.46it/s]\n",
      "60it [00:05, 11.13it/s]"
     ]
    },
    {
     "name": "stdout",
     "output_type": "stream",
     "text": [
      "epoch 67, train loss=0.088625, train acc=0.788250, val loss=0.093917, val acc=0.753833\n"
     ]
    },
    {
     "name": "stderr",
     "output_type": "stream",
     "text": [
      "\n",
      "280it [00:24, 11.42it/s]\n",
      "60it [00:05, 11.35it/s]"
     ]
    },
    {
     "name": "stdout",
     "output_type": "stream",
     "text": [
      "epoch 68, train loss=0.088315, train acc=0.792393, val loss=0.092391, val acc=0.730667\n"
     ]
    },
    {
     "name": "stderr",
     "output_type": "stream",
     "text": [
      "\n",
      "280it [00:24, 11.55it/s]\n",
      "60it [00:05, 11.63it/s]"
     ]
    },
    {
     "name": "stdout",
     "output_type": "stream",
     "text": [
      "epoch 69, train loss=0.088169, train acc=0.795357, val loss=0.092376, val acc=0.740167\n"
     ]
    },
    {
     "name": "stderr",
     "output_type": "stream",
     "text": [
      "\n",
      "280it [00:23, 11.73it/s]\n",
      "60it [00:05, 10.49it/s]"
     ]
    },
    {
     "name": "stdout",
     "output_type": "stream",
     "text": [
      "epoch 70, train loss=0.088007, train acc=0.795571, val loss=0.095169, val acc=0.748333\n"
     ]
    },
    {
     "name": "stderr",
     "output_type": "stream",
     "text": [
      "\n",
      "280it [00:23, 11.69it/s]\n",
      "60it [00:05, 10.56it/s]"
     ]
    },
    {
     "name": "stdout",
     "output_type": "stream",
     "text": [
      "epoch 71, train loss=0.088336, train acc=0.790929, val loss=0.094333, val acc=0.749167\n"
     ]
    },
    {
     "name": "stderr",
     "output_type": "stream",
     "text": [
      "\n",
      "280it [00:24, 11.66it/s]\n",
      "60it [00:05, 11.33it/s]"
     ]
    },
    {
     "name": "stdout",
     "output_type": "stream",
     "text": [
      "epoch 72, train loss=0.087969, train acc=0.796679, val loss=0.092329, val acc=0.726833\n"
     ]
    },
    {
     "name": "stderr",
     "output_type": "stream",
     "text": [
      "\n",
      "280it [00:24, 11.43it/s]\n",
      "60it [00:05, 11.34it/s]"
     ]
    },
    {
     "name": "stdout",
     "output_type": "stream",
     "text": [
      "epoch 73, train loss=0.087841, train acc=0.797071, val loss=0.092864, val acc=0.749000\n"
     ]
    },
    {
     "name": "stderr",
     "output_type": "stream",
     "text": [
      "\n",
      "280it [00:24, 11.54it/s]\n",
      "60it [00:05, 11.29it/s]"
     ]
    },
    {
     "name": "stdout",
     "output_type": "stream",
     "text": [
      "epoch 74, train loss=0.087948, train acc=0.794393, val loss=0.092435, val acc=0.740833\n"
     ]
    },
    {
     "name": "stderr",
     "output_type": "stream",
     "text": [
      "\n",
      "280it [00:24, 11.50it/s]\n",
      "60it [00:05, 11.42it/s]"
     ]
    },
    {
     "name": "stdout",
     "output_type": "stream",
     "text": [
      "epoch 75, train loss=0.087830, train acc=0.795750, val loss=0.092389, val acc=0.728500\n"
     ]
    },
    {
     "name": "stderr",
     "output_type": "stream",
     "text": [
      "\n",
      "280it [00:24, 11.55it/s]\n",
      "60it [00:05, 11.32it/s]"
     ]
    },
    {
     "name": "stdout",
     "output_type": "stream",
     "text": [
      "epoch 76, train loss=0.087633, train acc=0.799679, val loss=0.092837, val acc=0.742833\n"
     ]
    },
    {
     "name": "stderr",
     "output_type": "stream",
     "text": [
      "\n",
      "280it [00:24, 11.50it/s]\n",
      "60it [00:05, 11.50it/s]"
     ]
    },
    {
     "name": "stdout",
     "output_type": "stream",
     "text": [
      "epoch 77, train loss=0.087690, train acc=0.795893, val loss=0.096226, val acc=0.752167\n"
     ]
    },
    {
     "name": "stderr",
     "output_type": "stream",
     "text": [
      "\n",
      "280it [00:24, 11.55it/s]\n",
      "60it [00:05, 11.41it/s]"
     ]
    },
    {
     "name": "stdout",
     "output_type": "stream",
     "text": [
      "epoch 78, train loss=0.087599, train acc=0.800357, val loss=0.092940, val acc=0.744667\n"
     ]
    },
    {
     "name": "stderr",
     "output_type": "stream",
     "text": [
      "\n",
      "280it [00:24, 11.58it/s]\n",
      "60it [00:05, 11.74it/s]"
     ]
    },
    {
     "name": "stdout",
     "output_type": "stream",
     "text": [
      "epoch 79, train loss=0.087388, train acc=0.797714, val loss=0.092392, val acc=0.737167\n",
      "Best model loaded with val acc = 0.7540\n"
     ]
    },
    {
     "name": "stderr",
     "output_type": "stream",
     "text": [
      "\n"
     ]
    }
   ],
   "source": [
    "import torch\n",
    "\n",
    "train_losses, val_losses = [], []\n",
    "train_accuracies, val_accuracies = [], []\n",
    "best_val_acc = 0.0\n",
    "best_model_path = \"best_model.pth\"  # You can change this path\n",
    "\n",
    "train_dataloader = DataLoader(\n",
    "    dataset=train_dataset,\n",
    "    batch_size=100,\n",
    "    num_workers=4,\n",
    "    shuffle=True,\n",
    "    pin_memory=True\n",
    ")\n",
    "\n",
    "validation_dataloader = DataLoader(\n",
    "    dataset=val_dataset,\n",
    "    batch_size=100,\n",
    "    num_workers=4,\n",
    "    shuffle=True,\n",
    "    pin_memory=True\n",
    ")\n",
    "\n",
    "for epoch_idx in range(hyperparams['num_epochs']):\n",
    "\n",
    "    train_epoch_loss, train_predictions, train_labels = train_epoch(\n",
    "        model,\n",
    "        train_dataloader,\n",
    "        loss_criterion,\n",
    "        optimizer,\n",
    "        device\n",
    "    )\n",
    "\n",
    "    val_epoch_loss, val_predictions, val_labels = eval_epoch(\n",
    "        model,\n",
    "        validation_dataloader,\n",
    "        loss_criterion,\n",
    "        device\n",
    "    )\n",
    "\n",
    "    train_acc = compute_accuracy(train_predictions, train_labels)\n",
    "    val_acc = compute_accuracy(val_predictions, val_labels)\n",
    "\n",
    "    train_losses.append(train_epoch_loss)\n",
    "    val_losses.append(val_epoch_loss)\n",
    "    train_accuracies.append(train_acc)\n",
    "    val_accuracies.append(val_acc)\n",
    "\n",
    "    print(\"epoch %d, train loss=%f, train acc=%f, val loss=%f, val acc=%f\" % (\n",
    "        epoch_idx,\n",
    "        train_epoch_loss,\n",
    "        train_acc,\n",
    "        val_epoch_loss,\n",
    "        val_acc\n",
    "    ))\n",
    "\n",
    "    # Save the model if it's the best so far\n",
    "    if val_acc > best_val_acc:\n",
    "        best_val_acc = val_acc\n",
    "        torch.save(model.state_dict(), best_model_path)\n",
    "        print(f\"New best model saved with val acc = {best_val_acc:.4f}\")\n",
    "\n",
    "# Load the best model after training\n",
    "model.load_state_dict(torch.load(best_model_path))\n",
    "print(\"Best model loaded with val acc = {:.4f}\".format(best_val_acc))\n"
   ]
  },
  {
   "cell_type": "code",
   "execution_count": 76,
   "metadata": {
    "execution": {
     "iopub.execute_input": "2025-06-11T09:23:42.836124Z",
     "iopub.status.busy": "2025-06-11T09:23:42.835904Z",
     "iopub.status.idle": "2025-06-11T09:23:43.101274Z",
     "shell.execute_reply": "2025-06-11T09:23:43.100627Z",
     "shell.execute_reply.started": "2025-06-11T09:23:42.836102Z"
    },
    "trusted": true
   },
   "outputs": [
    {
     "data": {
      "image/png": "[encoded data removed]",
      "text/plain": [
       "<Figure size 640x480 with 2 Axes>"
      ]
     },
     "metadata": {},
     "output_type": "display_data"
    }
   ],
   "source": [
    "_, ax = plt.subplots(ncols=2, nrows=1)\n",
    "\n",
    "ax[0].plot(np.arange(len(val_losses)), val_losses, label='validation loss')\n",
    "ax[0].plot(np.arange(len(train_losses)), train_losses, label='train loss')\n",
    "ax[0].set_title('Loss')\n",
    "\n",
    "ax[1].plot(np.arange(len(val_accuracies)), val_accuracies, label='validation accuracy')\n",
    "ax[1].plot(np.arange(len(train_accuracies)), train_accuracies, label='train accuracy')\n",
    "ax[1].set_title('Accuracy')\n",
    "\n",
    "plt.grid(True)\n",
    "plt.legend()\n",
    "plt.show()"
   ]
  },
  {
   "cell_type": "code",
   "execution_count": null,
   "metadata": {
    "execution": {
     "iopub.execute_input": "2025-06-11T09:23:43.102243Z",
     "iopub.status.busy": "2025-06-11T09:23:43.102014Z",
     "iopub.status.idle": "2025-06-11T09:23:43.108006Z",
     "shell.execute_reply": "2025-06-11T09:23:43.107247Z",
     "shell.execute_reply.started": "2025-06-11T09:23:43.102227Z"
    },
    "trusted": true
   },
   "outputs": [],
   "source": [
    "import seaborn as sns\n",
    "import matplotlib.pyplot as plt\n",
    "from sklearn.metrics import confusion_matrix, accuracy_score\n",
    "import numpy as np\n",
    "\n",
    "def plot_confusion_matrix_4class(predictions, actual_labels, class_names=None):\n",
    "    \n",
    "    if class_names is None:\n",
    "        class_names = [f'Class {i}' for i in range(4)]\n",
    "    \n",
    "    cm = confusion_matrix(actual_labels, predictions)\n",
    "    accuracy = accuracy_score(actual_labels, predictions) * 100\n",
    "\n",
    "    plt.figure(figsize=(8, 6))\n",
    "    ax = sns.heatmap(cm, annot=True, fmt='d', cmap='Blues', cbar=True,\n",
    "                     xticklabels=class_names,\n",
    "                     yticklabels=class_names)\n",
    "    \n",
    "    ax.set_xlabel(f'Predicted Labels (Accuracy: {accuracy:.2f}%)')\n",
    "    ax.set_ylabel('True Labels')\n",
    "    ax.set_title('Confusion Matrix for 4-class Classification')\n",
    "    plt.tight_layout()\n",
    "    plt.show()\n"
   ]
  },
  {
   "cell_type": "code",
   "execution_count": null,
   "metadata": {
    "execution": {
     "iopub.execute_input": "2025-06-11T09:23:43.108860Z",
     "iopub.status.busy": "2025-06-11T09:23:43.108652Z",
     "iopub.status.idle": "2025-06-11T09:23:50.144554Z",
     "shell.execute_reply": "2025-06-11T09:23:50.143702Z",
     "shell.execute_reply.started": "2025-06-11T09:23:43.108836Z"
    },
    "trusted": true
   },
   "outputs": [
    {
     "name": "stderr",
     "output_type": "stream",
     "text": [
      "100%|██████████| 60/60 [00:06<00:00,  8.83it/s]\n"
     ]
    },
    {
     "data": {
      "image/png": "[encoded data removed]",
      "text/plain": [
       "<Figure size 800x600 with 2 Axes>"
      ]
     },
     "metadata": {},
     "output_type": "display_data"
    }
   ],
   "source": [
    "test_dataloader = DataLoader(\n",
    "    dataset=test_dataset,\n",
    "    batch_size=100,\n",
    "    shuffle=False,\n",
    "    num_workers=4\n",
    ")\n",
    "\n",
    "def test_model(model, dataloader, device):\n",
    "    model.eval()\n",
    "    all_preds = []\n",
    "    all_labels = []\n",
    "\n",
    "    with torch.no_grad():\n",
    "        for batch_data, batch_labels in tqdm(dataloader):\n",
    "            batch_data = batch_data.to(device)\n",
    "            batch_labels = batch_labels.to(device)\n",
    "\n",
    "            outputs = model(batch_data)\n",
    "            preds = torch.argmax(outputs, dim=1)\n",
    "\n",
    "            all_preds.extend(preds.cpu().tolist())\n",
    "            all_labels.extend(batch_labels.cpu().tolist())\n",
    "\n",
    "    return all_preds, all_labels\n",
    "\n",
    "class_names = ['0', '1', '2', '3']  # replace with your actual class names\n",
    "\n",
    "test_predictions, test_labels = test_model(model, test_dataloader, device)\n",
    "plot_confusion_matrix_4class(test_predictions, test_labels, class_names)"
   ]
  }
 ],
 "metadata": {
  "kaggle": {
   "accelerator": "gpu",
   "dataSources": [
    {
     "datasetId": 7618403,
     "sourceId": 12101256,
     "sourceType": "datasetVersion"
    }
   ],
   "dockerImageVersionId": 31041,
   "isGpuEnabled": true,
   "isInternetEnabled": true,
   "language": "python",
   "sourceType": "notebook"
  },
  "kernelspec": {
   "display_name": "Python 3",
   "language": "python",
   "name": "python3"
  },
  "language_info": {
   "codemirror_mode": {
    "name": "ipython",
    "version": 3
   },
   "file_extension": ".py",
   "mimetype": "text/x-python",
   "name": "python",
   "nbconvert_exporter": "python",
   "pygments_lexer": "ipython3",
   "version": "3.11.11"
  }
 },
 "nbformat": 4,
 "nbformat_minor": 4
}
